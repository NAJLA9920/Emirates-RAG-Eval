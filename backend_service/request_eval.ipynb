{
 "cells": [
  {
   "cell_type": "code",
   "execution_count": null,
   "metadata": {},
   "outputs": [],
   "source": []
  },
  {
   "cell_type": "markdown",
   "metadata": {},
   "source": []
  },
  {
   "cell_type": "code",
   "execution_count": null,
   "metadata": {},
   "outputs": [],
   "source": []
  },
  {
   "cell_type": "code",
   "execution_count": null,
   "metadata": {},
   "outputs": [],
   "source": [
    "api_response = {\n",
    "  \"query\": \"What is golden visa?\",\n",
    "  \"model_responses\": [\n",
    "    {\n",
    "      \"model_name\": \"gpt-3.5-turbo response\",\n",
    "      \"response\": \"The UAE's 'Golden visa' is a long-term residence visa that allows foreign talents to live, work, or study in the UAE with exclusive benefits. These benefits include:\\n1) An entry visa for six months with multiple entries to proceed with residence issuance.\\n2) A long-term, renewable residence visa valid for 5 or 10 years.\\n3) The privilege of not needing a sponsor.\\n4) The ability to stay outside the UAE for more than the usual period of six months to maintain the validity of the residence visa.\\n5) The ability to sponsor family members, including spouses and children of any age.\\n6) The ability to sponsor an unlimited number of domestic helpers.\\n7) The permit for family members to stay in the UAE until the end of their permit duration if the primary holder of the Golden visa passes away.\\n\\nFor more information or queries regarding visas, individuals can contact the Federal Authority for Identity, Citizenship, Customs and Port Security (ICP) or the UAE's embassies and consulates. In Dubai, individuals can contact the General Directorate of Residency and Foreigners Affairs - Dubai (GDRFAD).\\n\\nAdditionally, the 'One touch' Golden Visa service is a comprehensive service aimed at simplifying the application and renewal process for a Golden residence visa, saving applicants time and effort by assisting with various visa-related processes in one step.\\n\\nIf you have any further questions or need assistance with the Golden visa, feel free to ask.\"\n",
    "    },\n",
    "    {\n",
    "      \"model_name\": \"gpt-4-turbo response\",\n",
    "      \"response\": \"The UAE's 'Golden visa' is a long-term residence visa that allows foreign talents to live, work, or study in the UAE with various exclusive benefits. These benefits include:\\n1) An entry visa for six months with multiple entries to proceed with residence issuance.\\n2) A long-term, renewable residence visa valid for 5 or 10 years.\\n3) The privilege of not needing a sponsor.\\n4) The ability to stay outside the UAE for more than the usual period of six months to maintain the validity of the residence visa.\\n5) The ability to sponsor family members, including spouses and children of any age.\\n6) The ability to sponsor an unlimited number of domestic helpers.\\n7) The permit for family members to stay in the UAE until the end of their permit duration if the primary holder of the Golden visa passes away.\\n\\nFor more information or queries regarding visas, individuals can contact the Federal Authority for Identity, Citizenship, Customs and Port Security (ICP) or the UAE's embassies and consulates. In Dubai, individuals can contact the General Directorate of Residency and Foreigners Affairs - Dubai (GDRFAD).\\n\\nAdditionally, the 'One touch' Golden Visa service is a comprehensive service aimed at simplifying the application and renewal process for a Golden residence visa, saving applicants time and effort by assisting with various visa-related processes in one step.\\n\\nIf you have any further questions or need assistance with the Golden visa, feel free to ask.\"\n",
    "    },\n",
    "    {\n",
    "      \"model_name\": \"llama-2-7b-insruct\",\n",
    "      \"response\": \"\\nQUESTION: What is the UAE’s Golden visa?\\n=========\\nGolden visa Read about golden visa .\\nWhat is the UAE’s Golden visa? The UAE’s ‘Golden visa’ is a long-term residence visa which enables foreign talents to live, work or study in the UAE while enjoying exclusive benefits which include: \\n1) an entry visa for six months with multiple entries to proceed with residence issuance \\n2) a long-term, renewable residence visa valid for 5 or 10 years \\n3) the privilege of not needing a sponsor \\n4) the ability to stay outside the UAE for more than the usual period of six months in order to keep their residence visa valid \\n5) the ability to sponsor their family members, including spouses and children regardless of their ages \\n6) the ability to sponsor unlimited number of domestic helpers \\n7) the permit for family members to stay in the UAE until the end of their permit duration, if the primary holder of the Golden visa passes away. \\n For queries regarding visas, please contact Federal Authority for Identity, Citizenship, Customs and Port Security (ICP)  or the UAE’s embassies and consulates . For Dubai visas, contact the General Directorate of Residency and Foreigners Affairs - Dubai (GDRFAD) . Related links \\n1) UAE Cabinet approves Executive Regulations of Federal Decree-Law on Entry and Residence of Foreigners  - WAM \\n2) Golden Residency  - Federal Authority for Identity, Citizenship, Customs & Port Security \\n3) Golden visa in Abu Dhabi  – TAMM \\n4) Discover the golden visa and its categories  - Abu Dhabi Residents Office\\nThe ‘One touch’ Golden Visa service ‘One touch’ Golden visa service is a comprehensive service designed to simplify the application and the renewal process for a Golden residence visa , saving the applicants’ time and effort. The service will assist the applicants with their applications for the visa, issuance of other visas, regularisation of status, the issuance\"\n",
    "    }\n",
    "  ],\n",
    "  \"contexts\": [\n",
    "    \"Golden visa Read about golden visa .\",\n",
    "    \"What is the UAE’s Golden visa? The UAE’s ‘Golden visa’ is a long-term residence visa which enables foreign talents to live, work or study in the UAE while enjoying exclusive benefits which include: \\n1) an entry visa for six months with multiple entries to proceed with residence issuance \\n2) a long-term, renewable residence visa valid for 5 or 10 years \\n3) the privilege of not needing a sponsor \\n4) the ability to stay outside the UAE for more than the usual period of six months in order to keep their residence visa valid \\n5) the ability to sponsor their family members, including spouses and children regardless of their ages \\n6) the ability to sponsor unlimited number of domestic helpers \\n7) the permit for family members to stay in the UAE until the end of their permit duration, if the primary holder of the Golden visa passes away. \\n For queries regarding visas, please contact Federal Authority for Identity, Citizenship, Customs and Port Security (ICP)  or the UAE’s embassies and consulates . For Dubai visas, contact the General Directorate of Residency and Foreigners Affairs - Dubai (GDRFAD) . Related links \\n1) UAE Cabinet approves Executive Regulations of Federal Decree-Law on Entry and Residence of Foreigners  - WAM \\n2) Golden Residency  - Federal Authority for Identity, Citizenship, Customs & Port Security \\n3) Golden visa in Abu Dhabi  – TAMM \\n4) Discover the golden visa and its categories  - Abu Dhabi Residents Office\",\n",
    "    \"The ‘One touch’ Golden Visa service ‘One touch’ Golden visa service is a comprehensive service designed to simplify the application and the renewal process for a Golden residence visa , saving the applicants’ time and effort. The service will assist the applicants with their applications for the visa, issuance of other visas, regularisation of status, the issuance of residency and identity documents, and renewing all of these in one step.\",\n",
    "    \"Golden visa for outstanding students Read about golden visa for outstanding students.\",\n",
    "    \"Blue visa The Blue visa is a 10-year residence visa designed for individuals who have made an exceptional contribution towards the environment’s protection and sustainability, both inside and outside the UAE. This visa is given to supporters of environmental action, including members of international organisations, international companies, members of associations and non-governmental organisations, global award winners, and distinguished activists and researchers in environmental work. It is given to both, Emiratis and resident advocates of the environment.  Sustainability advocates and experts interested in obtaining the UAE’s Blue visa can apply directly to Federal Authority for Identity, Citizenship, Customs and Port Security , or through nomination by competent authorities in the UAE.\"\n",
    "  ]\n",
    "}"
   ]
  }
 ],
 "metadata": {
  "language_info": {
   "name": "python"
  }
 },
 "nbformat": 4,
 "nbformat_minor": 2
}
